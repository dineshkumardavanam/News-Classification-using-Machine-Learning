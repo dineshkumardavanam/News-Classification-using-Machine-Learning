{
  "cells": [
    {
      "cell_type": "markdown",
      "metadata": {
        "id": "view-in-github",
        "colab_type": "text"
      },
      "source": [
        "<a href=\"https://colab.research.google.com/github/dineshkumardavanam/Team2-Mini-project/blob/main/Mini_Project_ML.ipynb\" target=\"_parent\"><img src=\"https://colab.research.google.com/assets/colab-badge.svg\" alt=\"Open In Colab\"/></a>"
      ]
    },
    {
      "cell_type": "code",
      "execution_count": null,
      "metadata": {
        "colab": {
          "base_uri": "https://localhost:8080/"
        },
        "id": "ra1X6_r-nKzd",
        "outputId": "03c7f12d-a8da-4f2c-db2e-77e838598f0c"
      },
      "outputs": [
        {
          "name": "stderr",
          "output_type": "stream",
          "text": [
            "[nltk_data] Downloading package stopwords to\n",
            "[nltk_data]     C:\\Users\\dines\\AppData\\Roaming\\nltk_data...\n",
            "[nltk_data]   Package stopwords is already up-to-date!\n",
            "[nltk_data] Downloading package wordnet to\n",
            "[nltk_data]     C:\\Users\\dines\\AppData\\Roaming\\nltk_data...\n",
            "[nltk_data]   Package wordnet is already up-to-date!\n",
            "[nltk_data] Downloading package punkt to\n",
            "[nltk_data]     C:\\Users\\dines\\AppData\\Roaming\\nltk_data...\n",
            "[nltk_data]   Package punkt is already up-to-date!\n"
          ]
        }
      ],
      "source": [
        "import pandas as pd\n",
        "import numpy as np\n",
        "import matplotlib.pyplot as plt\n",
        "import seaborn as sns\n",
        "import re\n",
        "import nltk\n",
        "from nltk.corpus import stopwords\n",
        "nltk.download('stopwords')\n",
        "from nltk.stem import PorterStemmer\n",
        "from nltk.stem import WordNetLemmatizer\n",
        "nltk.download('wordnet')\n",
        "from nltk.tokenize import word_tokenize\n",
        "from nltk.tokenize import sent_tokenize\n",
        "nltk.download('punkt')\n",
        "from sklearn.feature_extraction.text import CountVectorizer\n",
        "from sklearn.feature_extraction.text import TfidfVectorizer\n",
        "from sklearn.model_selection import train_test_split\n",
        "from sklearn.metrics import accuracy_score\n",
        "from sklearn.metrics import confusion_matrix\n",
        "from sklearn.metrics import classification_report\n",
        "from sklearn.metrics import make_scorer, roc_curve, roc_auc_score\n",
        "from sklearn.metrics import precision_recall_fscore_support as score\n",
        "from sklearn.metrics.pairwise import cosine_similarity\n",
        "from sklearn.multiclass import OneVsRestClassifier\n",
        "from sklearn.linear_model import LogisticRegression\n",
        "from sklearn.svm import SVC, LinearSVC\n",
        "from sklearn.tree import DecisionTreeClassifier\n",
        "from sklearn.ensemble import RandomForestClassifier\n",
        "from sklearn.neighbors import KNeighborsClassifier\n",
        "from sklearn.naive_bayes import GaussianNB,MultinomialNB,BernoulliNB"
      ]
    },
    {
      "cell_type": "code",
      "execution_count": null,
      "metadata": {
        "id": "TJRrwkzPnie6"
      },
      "outputs": [],
      "source": [
        "dataset = pd.read_csv(r'C:\\Users\\dines\\Downloads\\BBC News Train (1).csv')"
      ]
    },
    {
      "cell_type": "code",
      "execution_count": null,
      "metadata": {
        "colab": {
          "base_uri": "https://localhost:8080/"
        },
        "id": "aH-_cEbcoKMe",
        "outputId": "7e6b329b-6cb9-48b4-ca4b-3bc8dcd7cdc2"
      },
      "outputs": [
        {
          "data": {
            "text/plain": [
              "(1490, 3)"
            ]
          },
          "execution_count": 33,
          "metadata": {},
          "output_type": "execute_result"
        }
      ],
      "source": [
        "dataset.shape"
      ]
    },
    {
      "cell_type": "code",
      "execution_count": null,
      "metadata": {
        "id": "ppfb97XFoOuZ"
      },
      "outputs": [],
      "source": [
        "dataset['CategoryId'] = dataset['Category'].factorize()[0]"
      ]
    },
    {
      "cell_type": "code",
      "execution_count": null,
      "metadata": {
        "colab": {
          "base_uri": "https://localhost:8080/",
          "height": 206
        },
        "id": "IIVat5-EoY4I",
        "outputId": "6a6f6242-bf81-4e3a-b846-10765d642378"
      },
      "outputs": [
        {
          "data": {
            "text/html": [
              "<div>\n",
              "<style scoped>\n",
              "    .dataframe tbody tr th:only-of-type {\n",
              "        vertical-align: middle;\n",
              "    }\n",
              "\n",
              "    .dataframe tbody tr th {\n",
              "        vertical-align: top;\n",
              "    }\n",
              "\n",
              "    .dataframe thead th {\n",
              "        text-align: right;\n",
              "    }\n",
              "</style>\n",
              "<table border=\"1\" class=\"dataframe\">\n",
              "  <thead>\n",
              "    <tr style=\"text-align: right;\">\n",
              "      <th></th>\n",
              "      <th>ArticleId</th>\n",
              "      <th>Text</th>\n",
              "      <th>Category</th>\n",
              "      <th>CategoryId</th>\n",
              "    </tr>\n",
              "  </thead>\n",
              "  <tbody>\n",
              "    <tr>\n",
              "      <th>0</th>\n",
              "      <td>1833</td>\n",
              "      <td>worldcom ex-boss launches defence lawyers defe...</td>\n",
              "      <td>business</td>\n",
              "      <td>0</td>\n",
              "    </tr>\n",
              "    <tr>\n",
              "      <th>1</th>\n",
              "      <td>154</td>\n",
              "      <td>german business confidence slides german busin...</td>\n",
              "      <td>business</td>\n",
              "      <td>0</td>\n",
              "    </tr>\n",
              "    <tr>\n",
              "      <th>2</th>\n",
              "      <td>1101</td>\n",
              "      <td>bbc poll indicates economic gloom citizens in ...</td>\n",
              "      <td>business</td>\n",
              "      <td>0</td>\n",
              "    </tr>\n",
              "    <tr>\n",
              "      <th>3</th>\n",
              "      <td>1976</td>\n",
              "      <td>lifestyle  governs mobile choice  faster  bett...</td>\n",
              "      <td>tech</td>\n",
              "      <td>1</td>\n",
              "    </tr>\n",
              "    <tr>\n",
              "      <th>4</th>\n",
              "      <td>917</td>\n",
              "      <td>enron bosses in $168m payout eighteen former e...</td>\n",
              "      <td>business</td>\n",
              "      <td>0</td>\n",
              "    </tr>\n",
              "  </tbody>\n",
              "</table>\n",
              "</div>"
            ],
            "text/plain": [
              "   ArticleId                                               Text  Category  \\\n",
              "0       1833  worldcom ex-boss launches defence lawyers defe...  business   \n",
              "1        154  german business confidence slides german busin...  business   \n",
              "2       1101  bbc poll indicates economic gloom citizens in ...  business   \n",
              "3       1976  lifestyle  governs mobile choice  faster  bett...      tech   \n",
              "4        917  enron bosses in $168m payout eighteen former e...  business   \n",
              "\n",
              "   CategoryId  \n",
              "0           0  \n",
              "1           0  \n",
              "2           0  \n",
              "3           1  \n",
              "4           0  "
            ]
          },
          "execution_count": 35,
          "metadata": {},
          "output_type": "execute_result"
        }
      ],
      "source": [
        "dataset.head()"
      ]
    },
    {
      "cell_type": "code",
      "execution_count": null,
      "metadata": {
        "colab": {
          "base_uri": "https://localhost:8080/",
          "height": 206
        },
        "id": "KFeHQGmeocZM",
        "outputId": "6a031949-7e3c-419a-e762-58045ed2f6ac"
      },
      "outputs": [
        {
          "data": {
            "text/html": [
              "<div>\n",
              "<style scoped>\n",
              "    .dataframe tbody tr th:only-of-type {\n",
              "        vertical-align: middle;\n",
              "    }\n",
              "\n",
              "    .dataframe tbody tr th {\n",
              "        vertical-align: top;\n",
              "    }\n",
              "\n",
              "    .dataframe thead th {\n",
              "        text-align: right;\n",
              "    }\n",
              "</style>\n",
              "<table border=\"1\" class=\"dataframe\">\n",
              "  <thead>\n",
              "    <tr style=\"text-align: right;\">\n",
              "      <th></th>\n",
              "      <th>ArticleId</th>\n",
              "      <th>Text</th>\n",
              "      <th>Category</th>\n",
              "      <th>CategoryId</th>\n",
              "    </tr>\n",
              "  </thead>\n",
              "  <tbody>\n",
              "    <tr>\n",
              "      <th>1485</th>\n",
              "      <td>857</td>\n",
              "      <td>double eviction from big brother model caprice...</td>\n",
              "      <td>entertainment</td>\n",
              "      <td>4</td>\n",
              "    </tr>\n",
              "    <tr>\n",
              "      <th>1486</th>\n",
              "      <td>325</td>\n",
              "      <td>dj double act revamp chart show dj duo jk and ...</td>\n",
              "      <td>entertainment</td>\n",
              "      <td>4</td>\n",
              "    </tr>\n",
              "    <tr>\n",
              "      <th>1487</th>\n",
              "      <td>1590</td>\n",
              "      <td>weak dollar hits reuters revenues at media gro...</td>\n",
              "      <td>business</td>\n",
              "      <td>0</td>\n",
              "    </tr>\n",
              "    <tr>\n",
              "      <th>1488</th>\n",
              "      <td>1587</td>\n",
              "      <td>apple ipod family expands market apple has exp...</td>\n",
              "      <td>tech</td>\n",
              "      <td>1</td>\n",
              "    </tr>\n",
              "    <tr>\n",
              "      <th>1489</th>\n",
              "      <td>538</td>\n",
              "      <td>santy worm makes unwelcome visit thousands of ...</td>\n",
              "      <td>tech</td>\n",
              "      <td>1</td>\n",
              "    </tr>\n",
              "  </tbody>\n",
              "</table>\n",
              "</div>"
            ],
            "text/plain": [
              "      ArticleId                                               Text  \\\n",
              "1485        857  double eviction from big brother model caprice...   \n",
              "1486        325  dj double act revamp chart show dj duo jk and ...   \n",
              "1487       1590  weak dollar hits reuters revenues at media gro...   \n",
              "1488       1587  apple ipod family expands market apple has exp...   \n",
              "1489        538  santy worm makes unwelcome visit thousands of ...   \n",
              "\n",
              "           Category  CategoryId  \n",
              "1485  entertainment           4  \n",
              "1486  entertainment           4  \n",
              "1487       business           0  \n",
              "1488           tech           1  \n",
              "1489           tech           1  "
            ]
          },
          "execution_count": 36,
          "metadata": {},
          "output_type": "execute_result"
        }
      ],
      "source": [
        "dataset.tail()"
      ]
    },
    {
      "cell_type": "code",
      "execution_count": null,
      "metadata": {
        "id": "cQV3WH2Xofwv"
      },
      "outputs": [],
      "source": [
        "category = dataset[['Category', 'CategoryId']].drop_duplicates().sort_values('CategoryId')"
      ]
    },
    {
      "cell_type": "code",
      "execution_count": null,
      "metadata": {
        "colab": {
          "base_uri": "https://localhost:8080/",
          "height": 206
        },
        "id": "dX6PfujwpL3X",
        "outputId": "dbf4b033-9072-4b32-ed88-a0d7f45b530f"
      },
      "outputs": [
        {
          "data": {
            "text/html": [
              "<div>\n",
              "<style scoped>\n",
              "    .dataframe tbody tr th:only-of-type {\n",
              "        vertical-align: middle;\n",
              "    }\n",
              "\n",
              "    .dataframe tbody tr th {\n",
              "        vertical-align: top;\n",
              "    }\n",
              "\n",
              "    .dataframe thead th {\n",
              "        text-align: right;\n",
              "    }\n",
              "</style>\n",
              "<table border=\"1\" class=\"dataframe\">\n",
              "  <thead>\n",
              "    <tr style=\"text-align: right;\">\n",
              "      <th></th>\n",
              "      <th>Category</th>\n",
              "      <th>CategoryId</th>\n",
              "    </tr>\n",
              "  </thead>\n",
              "  <tbody>\n",
              "    <tr>\n",
              "      <th>0</th>\n",
              "      <td>business</td>\n",
              "      <td>0</td>\n",
              "    </tr>\n",
              "    <tr>\n",
              "      <th>3</th>\n",
              "      <td>tech</td>\n",
              "      <td>1</td>\n",
              "    </tr>\n",
              "    <tr>\n",
              "      <th>5</th>\n",
              "      <td>politics</td>\n",
              "      <td>2</td>\n",
              "    </tr>\n",
              "    <tr>\n",
              "      <th>6</th>\n",
              "      <td>sport</td>\n",
              "      <td>3</td>\n",
              "    </tr>\n",
              "    <tr>\n",
              "      <th>7</th>\n",
              "      <td>entertainment</td>\n",
              "      <td>4</td>\n",
              "    </tr>\n",
              "  </tbody>\n",
              "</table>\n",
              "</div>"
            ],
            "text/plain": [
              "        Category  CategoryId\n",
              "0       business           0\n",
              "3           tech           1\n",
              "5       politics           2\n",
              "6          sport           3\n",
              "7  entertainment           4"
            ]
          },
          "execution_count": 38,
          "metadata": {},
          "output_type": "execute_result"
        }
      ],
      "source": [
        "category"
      ]
    },
    {
      "cell_type": "code",
      "execution_count": null,
      "metadata": {
        "colab": {
          "base_uri": "https://localhost:8080/",
          "height": 586
        },
        "id": "EoUqlz6dpS0n",
        "outputId": "e31c99eb-ae45-4e84-849a-fa92145b4d56"
      },
      "outputs": [
        {
          "data": {
            "image/png": "[encoded data removed]",
            "text/plain": [
              "<Figure size 640x480 with 1 Axes>"
            ]
          },
          "metadata": {},
          "output_type": "display_data"
        }
      ],
      "source": [
        "dataset.groupby('Category').CategoryId.value_counts().plot(kind = \"bar\")\n",
        "plt.xlabel(\"Categories\")\n",
        "plt.title(\"Total categories with the number of news under each category\")\n",
        "plt.show()"
      ]
    },
    {
      "cell_type": "code",
      "execution_count": null,
      "metadata": {
        "id": "zWjTmWj-pfJc"
      },
      "outputs": [],
      "source": [
        "text = dataset[\"Text\"]"
      ]
    },
    {
      "cell_type": "code",
      "execution_count": null,
      "metadata": {
        "colab": {
          "base_uri": "https://localhost:8080/"
        },
        "id": "xNz8HiHEqRT5",
        "outputId": "23630988-f20c-442f-d74b-0a79c5ba0601"
      },
      "outputs": [
        {
          "data": {
            "text/plain": [
              "0    worldcom ex-boss launches defence lawyers defe...\n",
              "1    german business confidence slides german busin...\n",
              "2    bbc poll indicates economic gloom citizens in ...\n",
              "3    lifestyle  governs mobile choice  faster  bett...\n",
              "4    enron bosses in $168m payout eighteen former e...\n",
              "5    howard  truanted to play snooker  conservative...\n",
              "6    wales silent on grand slam talk rhys williams ...\n",
              "7    french honour for director parker british film...\n",
              "8    car giant hit by mercedes slump a slump in pro...\n",
              "9    fockers fuel festive film chart comedy meet th...\n",
              "Name: Text, dtype: object"
            ]
          },
          "execution_count": 41,
          "metadata": {},
          "output_type": "execute_result"
        }
      ],
      "source": [
        "text.head(10)"
      ]
    },
    {
      "cell_type": "code",
      "execution_count": null,
      "metadata": {
        "id": "7-YMFHPhqR31"
      },
      "outputs": [],
      "source": [
        "category = dataset['Category']"
      ]
    },
    {
      "cell_type": "code",
      "execution_count": null,
      "metadata": {
        "colab": {
          "base_uri": "https://localhost:8080/"
        },
        "id": "1aFOt7L8qV8F",
        "outputId": "8b23198b-6290-4a8c-8922-34e13e10549f"
      },
      "outputs": [
        {
          "data": {
            "text/plain": [
              "0         business\n",
              "1         business\n",
              "2         business\n",
              "3             tech\n",
              "4         business\n",
              "5         politics\n",
              "6            sport\n",
              "7    entertainment\n",
              "8         business\n",
              "9    entertainment\n",
              "Name: Category, dtype: object"
            ]
          },
          "execution_count": 43,
          "metadata": {},
          "output_type": "execute_result"
        }
      ],
      "source": [
        "category.head(10)"
      ]
    },
    {
      "cell_type": "code",
      "execution_count": null,
      "metadata": {
        "id": "RIH-7hvEqXC4"
      },
      "outputs": [],
      "source": [
        "def remove_tags(text):\n",
        "  remove = re.compile(r'')\n",
        "  return re.sub(remove, '', text)\n",
        "dataset['Text'] = dataset['Text'].apply(remove_tags)"
      ]
    },
    {
      "cell_type": "code",
      "execution_count": null,
      "metadata": {
        "id": "89chR_DZqfVK"
      },
      "outputs": [],
      "source": [
        "def special_char(text):\n",
        "  reviews = ''\n",
        "  for x in text:\n",
        "    if x.isalnum():\n",
        "      reviews = reviews + x\n",
        "    else:\n",
        "      reviews = reviews + ' '\n",
        "  return reviews\n",
        "dataset['Text'] = dataset['Text'].apply(special_char)"
      ]
    },
    {
      "cell_type": "markdown",
      "metadata": {
        "id": "lpTYI4mkqyR5"
      },
      "source": [
        "#We convert all articles or text to lower case."
      ]
    },
    {
      "cell_type": "code",
      "execution_count": null,
      "metadata": {
        "colab": {
          "base_uri": "https://localhost:8080/",
          "height": 123
        },
        "id": "capTguRrq1e3",
        "outputId": "087cb6ce-9945-499a-b73d-5d313dcf476e"
      },
      "outputs": [
        {
          "data": {
            "text/plain": [
              "'german business confidence slides german business confidence fell in february knocking hopes of a speedy recovery in europe s largest economy   munich based research institute ifo said that its confidence index fell to 95 5 in february from 97 5 in january  its first decline in three months  the study found that the outlook in both the manufacturing and retail sectors had worsened  observers had been hoping that a more confident business sector would signal that economic activity was picking up    we re surprised that the ifo index has taken such a knock   said dz bank economist bernd weidensteiner   the main reason is probably that the domestic economy is still weak  particularly in the retail trade   economy and labour minister wolfgang clement called the dip in february s ifo confidence figure  a very mild decline   he said that despite the retreat  the index remained at a relatively high level and that he expected  a modest economic upswing  to continue   germany s economy grew 1 6  last year after shrinking in 2003  however  the economy contracted by 0 2  during the last three months of 2004  mainly due to the reluctance of consumers to spend  latest indications are that growth is still proving elusive and ifo president hans werner sinn said any improvement in german domestic demand was sluggish  exports had kept things going during the first half of 2004  but demand for exports was then hit as the value of the euro hit record levels making german products less competitive overseas  on top of that  the unemployment rate has been stuck at close to 10  and manufacturing firms  including daimlerchrysler  siemens and volkswagen  have been negotiating with unions over cost cutting measures  analysts said that the ifo figures and germany s continuing problems may delay an interest rate rise by the european central bank  eurozone interest rates are at 2   but comments from senior officials have recently focused on the threat of inflation  prompting fears that interest rates may rise '"
            ]
          },
          "execution_count": 46,
          "metadata": {},
          "output_type": "execute_result"
        }
      ],
      "source": [
        "def convert_lower(text):\n",
        "   return text.lower()\n",
        "dataset['Text'] = dataset['Text'].apply(convert_lower)\n",
        "dataset['Text'][1]"
      ]
    },
    {
      "cell_type": "markdown",
      "metadata": {
        "id": "IOrTEZ5QqpRW"
      },
      "source": [
        "#Remove all Stopwords"
      ]
    },
    {
      "cell_type": "code",
      "execution_count": null,
      "metadata": {
        "colab": {
          "base_uri": "https://localhost:8080/"
        },
        "id": "Hese78lFqi0O",
        "outputId": "c366048d-e1b0-42fd-8d46-c0ab7442f8c2"
      },
      "outputs": [
        {
          "data": {
            "text/plain": [
              "['german',\n",
              " 'business',\n",
              " 'confidence',\n",
              " 'slides',\n",
              " 'german',\n",
              " 'business',\n",
              " 'confidence',\n",
              " 'fell',\n",
              " 'february',\n",
              " 'knocking',\n",
              " 'hopes',\n",
              " 'speedy',\n",
              " 'recovery',\n",
              " 'europe',\n",
              " 'largest',\n",
              " 'economy',\n",
              " 'munich',\n",
              " 'based',\n",
              " 'research',\n",
              " 'institute',\n",
              " 'ifo',\n",
              " 'said',\n",
              " 'confidence',\n",
              " 'index',\n",
              " 'fell',\n",
              " '95',\n",
              " '5',\n",
              " 'february',\n",
              " '97',\n",
              " '5',\n",
              " 'january',\n",
              " 'first',\n",
              " 'decline',\n",
              " 'three',\n",
              " 'months',\n",
              " 'study',\n",
              " 'found',\n",
              " 'outlook',\n",
              " 'manufacturing',\n",
              " 'retail',\n",
              " 'sectors',\n",
              " 'worsened',\n",
              " 'observers',\n",
              " 'hoping',\n",
              " 'confident',\n",
              " 'business',\n",
              " 'sector',\n",
              " 'would',\n",
              " 'signal',\n",
              " 'economic',\n",
              " 'activity',\n",
              " 'picking',\n",
              " 'surprised',\n",
              " 'ifo',\n",
              " 'index',\n",
              " 'taken',\n",
              " 'knock',\n",
              " 'said',\n",
              " 'dz',\n",
              " 'bank',\n",
              " 'economist',\n",
              " 'bernd',\n",
              " 'weidensteiner',\n",
              " 'main',\n",
              " 'reason',\n",
              " 'probably',\n",
              " 'domestic',\n",
              " 'economy',\n",
              " 'still',\n",
              " 'weak',\n",
              " 'particularly',\n",
              " 'retail',\n",
              " 'trade',\n",
              " 'economy',\n",
              " 'labour',\n",
              " 'minister',\n",
              " 'wolfgang',\n",
              " 'clement',\n",
              " 'called',\n",
              " 'dip',\n",
              " 'february',\n",
              " 'ifo',\n",
              " 'confidence',\n",
              " 'figure',\n",
              " 'mild',\n",
              " 'decline',\n",
              " 'said',\n",
              " 'despite',\n",
              " 'retreat',\n",
              " 'index',\n",
              " 'remained',\n",
              " 'relatively',\n",
              " 'high',\n",
              " 'level',\n",
              " 'expected',\n",
              " 'modest',\n",
              " 'economic',\n",
              " 'upswing',\n",
              " 'continue',\n",
              " 'germany',\n",
              " 'economy',\n",
              " 'grew',\n",
              " '1',\n",
              " '6',\n",
              " 'last',\n",
              " 'year',\n",
              " 'shrinking',\n",
              " '2003',\n",
              " 'however',\n",
              " 'economy',\n",
              " 'contracted',\n",
              " '0',\n",
              " '2',\n",
              " 'last',\n",
              " 'three',\n",
              " 'months',\n",
              " '2004',\n",
              " 'mainly',\n",
              " 'due',\n",
              " 'reluctance',\n",
              " 'consumers',\n",
              " 'spend',\n",
              " 'latest',\n",
              " 'indications',\n",
              " 'growth',\n",
              " 'still',\n",
              " 'proving',\n",
              " 'elusive',\n",
              " 'ifo',\n",
              " 'president',\n",
              " 'hans',\n",
              " 'werner',\n",
              " 'sinn',\n",
              " 'said',\n",
              " 'improvement',\n",
              " 'german',\n",
              " 'domestic',\n",
              " 'demand',\n",
              " 'sluggish',\n",
              " 'exports',\n",
              " 'kept',\n",
              " 'things',\n",
              " 'going',\n",
              " 'first',\n",
              " 'half',\n",
              " '2004',\n",
              " 'demand',\n",
              " 'exports',\n",
              " 'hit',\n",
              " 'value',\n",
              " 'euro',\n",
              " 'hit',\n",
              " 'record',\n",
              " 'levels',\n",
              " 'making',\n",
              " 'german',\n",
              " 'products',\n",
              " 'less',\n",
              " 'competitive',\n",
              " 'overseas',\n",
              " 'top',\n",
              " 'unemployment',\n",
              " 'rate',\n",
              " 'stuck',\n",
              " 'close',\n",
              " '10',\n",
              " 'manufacturing',\n",
              " 'firms',\n",
              " 'including',\n",
              " 'daimlerchrysler',\n",
              " 'siemens',\n",
              " 'volkswagen',\n",
              " 'negotiating',\n",
              " 'unions',\n",
              " 'cost',\n",
              " 'cutting',\n",
              " 'measures',\n",
              " 'analysts',\n",
              " 'said',\n",
              " 'ifo',\n",
              " 'figures',\n",
              " 'germany',\n",
              " 'continuing',\n",
              " 'problems',\n",
              " 'may',\n",
              " 'delay',\n",
              " 'interest',\n",
              " 'rate',\n",
              " 'rise',\n",
              " 'european',\n",
              " 'central',\n",
              " 'bank',\n",
              " 'eurozone',\n",
              " 'interest',\n",
              " 'rates',\n",
              " '2',\n",
              " 'comments',\n",
              " 'senior',\n",
              " 'officials',\n",
              " 'recently',\n",
              " 'focused',\n",
              " 'threat',\n",
              " 'inflation',\n",
              " 'prompting',\n",
              " 'fears',\n",
              " 'interest',\n",
              " 'rates',\n",
              " 'may',\n",
              " 'rise']"
            ]
          },
          "execution_count": 47,
          "metadata": {},
          "output_type": "execute_result"
        }
      ],
      "source": [
        "def remove_stopwords(text):\n",
        "  stop_words = set(stopwords.words('english'))\n",
        "  words = word_tokenize(text)\n",
        "  return [x for x in words if x not in stop_words]\n",
        "dataset['Text'] = dataset['Text'].apply(remove_stopwords)\n",
        "dataset['Text'][1]"
      ]
    },
    {
      "cell_type": "code",
      "execution_count": null,
      "metadata": {
        "id": "66yGiI7TODBo",
        "outputId": "0b92d447-6aed-4165-f176-6338a6f71666"
      },
      "outputs": [
        {
          "name": "stderr",
          "output_type": "stream",
          "text": [
            "[nltk_data] Downloading package omw-1.4 to\n",
            "[nltk_data]     C:\\Users\\dines\\AppData\\Roaming\\nltk_data...\n",
            "[nltk_data]   Package omw-1.4 is already up-to-date!\n"
          ]
        },
        {
          "data": {
            "text/plain": [
              "True"
            ]
          },
          "execution_count": 48,
          "metadata": {},
          "output_type": "execute_result"
        }
      ],
      "source": [
        "import nltk\n",
        "nltk.download('omw-1.4')"
      ]
    },
    {
      "cell_type": "markdown",
      "metadata": {
        "id": "ZUYqYYfurGNX"
      },
      "source": [
        "#Lemmatizing the Words"
      ]
    },
    {
      "cell_type": "code",
      "execution_count": null,
      "metadata": {
        "colab": {
          "base_uri": "https://localhost:8080/",
          "height": 123
        },
        "id": "tAo_h-V3q7Vl",
        "outputId": "933e0d7a-1cf5-4b14-ac8e-9987111550a1"
      },
      "outputs": [
        {
          "data": {
            "text/plain": [
              "'german business confidence slide german business confidence fell february knocking hope speedy recovery europe largest economy munich based research institute ifo said confidence index fell 95 5 february 97 5 january first decline three month study found outlook manufacturing retail sector worsened observer hoping confident business sector would signal economic activity picking surprised ifo index taken knock said dz bank economist bernd weidensteiner main reason probably domestic economy still weak particularly retail trade economy labour minister wolfgang clement called dip february ifo confidence figure mild decline said despite retreat index remained relatively high level expected modest economic upswing continue germany economy grew 1 6 last year shrinking 2003 however economy contracted 0 2 last three month 2004 mainly due reluctance consumer spend latest indication growth still proving elusive ifo president han werner sinn said improvement german domestic demand sluggish export kept thing going first half 2004 demand export hit value euro hit record level making german product le competitive overseas top unemployment rate stuck close 10 manufacturing firm including daimlerchrysler siemens volkswagen negotiating union cost cutting measure analyst said ifo figure germany continuing problem may delay interest rate rise european central bank eurozone interest rate 2 comment senior official recently focused threat inflation prompting fear interest rate may rise'"
            ]
          },
          "execution_count": 49,
          "metadata": {},
          "output_type": "execute_result"
        }
      ],
      "source": [
        "def lemmatize_word(text):\n",
        "  wordnet = WordNetLemmatizer()\n",
        "  return \" \".join([wordnet.lemmatize(word) for word in text])\n",
        "dataset['Text'] = dataset['Text'].apply(lemmatize_word)\n",
        "dataset['Text'][1]"
      ]
    },
    {
      "cell_type": "code",
      "execution_count": null,
      "metadata": {
        "colab": {
          "base_uri": "https://localhost:8080/",
          "height": 206
        },
        "id": "PEatHgE8wJVU",
        "outputId": "40f6d1e6-fb94-4f0f-87ba-8d6e9e7ec4ab"
      },
      "outputs": [
        {
          "data": {
            "text/html": [
              "<div>\n",
              "<style scoped>\n",
              "    .dataframe tbody tr th:only-of-type {\n",
              "        vertical-align: middle;\n",
              "    }\n",
              "\n",
              "    .dataframe tbody tr th {\n",
              "        vertical-align: top;\n",
              "    }\n",
              "\n",
              "    .dataframe thead th {\n",
              "        text-align: right;\n",
              "    }\n",
              "</style>\n",
              "<table border=\"1\" class=\"dataframe\">\n",
              "  <thead>\n",
              "    <tr style=\"text-align: right;\">\n",
              "      <th></th>\n",
              "      <th>ArticleId</th>\n",
              "      <th>Text</th>\n",
              "      <th>Category</th>\n",
              "      <th>CategoryId</th>\n",
              "    </tr>\n",
              "  </thead>\n",
              "  <tbody>\n",
              "    <tr>\n",
              "      <th>0</th>\n",
              "      <td>1833</td>\n",
              "      <td>worldcom ex bos launch defence lawyer defendin...</td>\n",
              "      <td>business</td>\n",
              "      <td>0</td>\n",
              "    </tr>\n",
              "    <tr>\n",
              "      <th>1</th>\n",
              "      <td>154</td>\n",
              "      <td>german business confidence slide german busine...</td>\n",
              "      <td>business</td>\n",
              "      <td>0</td>\n",
              "    </tr>\n",
              "    <tr>\n",
              "      <th>2</th>\n",
              "      <td>1101</td>\n",
              "      <td>bbc poll indicates economic gloom citizen majo...</td>\n",
              "      <td>business</td>\n",
              "      <td>0</td>\n",
              "    </tr>\n",
              "    <tr>\n",
              "      <th>3</th>\n",
              "      <td>1976</td>\n",
              "      <td>lifestyle governs mobile choice faster better ...</td>\n",
              "      <td>tech</td>\n",
              "      <td>1</td>\n",
              "    </tr>\n",
              "    <tr>\n",
              "      <th>4</th>\n",
              "      <td>917</td>\n",
              "      <td>enron boss 168m payout eighteen former enron d...</td>\n",
              "      <td>business</td>\n",
              "      <td>0</td>\n",
              "    </tr>\n",
              "  </tbody>\n",
              "</table>\n",
              "</div>"
            ],
            "text/plain": [
              "   ArticleId                                               Text  Category  \\\n",
              "0       1833  worldcom ex bos launch defence lawyer defendin...  business   \n",
              "1        154  german business confidence slide german busine...  business   \n",
              "2       1101  bbc poll indicates economic gloom citizen majo...  business   \n",
              "3       1976  lifestyle governs mobile choice faster better ...      tech   \n",
              "4        917  enron boss 168m payout eighteen former enron d...  business   \n",
              "\n",
              "   CategoryId  \n",
              "0           0  \n",
              "1           0  \n",
              "2           0  \n",
              "3           1  \n",
              "4           0  "
            ]
          },
          "execution_count": 50,
          "metadata": {},
          "output_type": "execute_result"
        }
      ],
      "source": [
        "dataset.head()"
      ]
    },
    {
      "cell_type": "code",
      "execution_count": null,
      "metadata": {
        "id": "T_psRD_otXjm"
      },
      "outputs": [],
      "source": [
        "perform_list = []"
      ]
    },
    {
      "cell_type": "markdown",
      "metadata": {
        "id": "0agy0CDLrOi6"
      },
      "source": [
        "#Dependent and Independent Variable"
      ]
    },
    {
      "cell_type": "code",
      "execution_count": null,
      "metadata": {
        "id": "9GMF_C8DrJnM"
      },
      "outputs": [],
      "source": [
        "x = dataset['Text']\n",
        "y = dataset['CategoryId']"
      ]
    },
    {
      "cell_type": "code",
      "execution_count": null,
      "metadata": {
        "colab": {
          "base_uri": "https://localhost:8080/"
        },
        "id": "PmK2JL13wZ7e",
        "outputId": "25e4c269-f7f6-436d-a510-40f9db14676f"
      },
      "outputs": [
        {
          "name": "stdout",
          "output_type": "stream",
          "text": [
            "X.shape =  (1490, 5000)\n",
            "y.shape =  (1490,)\n"
          ]
        }
      ],
      "source": [
        "from sklearn.feature_extraction.text import CountVectorizer\n",
        "x = np.array(dataset.iloc[:,0].values)\n",
        "y = np.array(dataset.CategoryId.values)\n",
        "cv = CountVectorizer(max_features = 5000)\n",
        "x = cv.fit_transform(dataset.Text).toarray()\n",
        "print(\"X.shape = \",x.shape)\n",
        "print(\"y.shape = \",y.shape)"
      ]
    },
    {
      "cell_type": "markdown",
      "metadata": {
        "id": "WiHhjkqirwON"
      },
      "source": [
        "#Starting to create ML models and use it"
      ]
    },
    {
      "cell_type": "code",
      "execution_count": null,
      "metadata": {
        "id": "GKiegphqrdJF"
      },
      "outputs": [],
      "source": [
        "from sklearn.model_selection import train_test_split"
      ]
    },
    {
      "cell_type": "code",
      "execution_count": null,
      "metadata": {
        "id": "2crj0E3Zr1AE"
      },
      "outputs": [],
      "source": [
        "x_train, x_test, y_train, y_test = train_test_split(x, y, test_size = 0.3, random_state = 0, shuffle = True)"
      ]
    },
    {
      "cell_type": "markdown",
      "metadata": {
        "id": "I1cL9WGHsWAP"
      },
      "source": [
        "#Creating a list of models"
      ]
    },
    {
      "cell_type": "code",
      "execution_count": null,
      "metadata": {
        "id": "tODeNSflwrG5"
      },
      "outputs": [],
      "source": []
    },
    {
      "cell_type": "code",
      "execution_count": null,
      "metadata": {
        "id": "9mOG78lir63h"
      },
      "outputs": [],
      "source": [
        "def run_model(model_name, est_c, est_pnlty):\n",
        "  mdl=''\n",
        "\n",
        "  if model_name == 'Logistic Regression':\n",
        "\n",
        "    mdl = LogisticRegression()\n",
        "\n",
        "  elif model_name == 'Random Forest':\n",
        "\n",
        "    mdl = RandomForestClassifier(n_estimators=100 ,criterion='entropy' , random_state=0)\n",
        "\n",
        "  elif model_name == 'Multinomial Naive Bayes':\n",
        "\n",
        "    mdl = MultinomialNB(alpha=1.0,fit_prior=True)\n",
        "\n",
        "  elif model_name == 'Support Vector Classifer':\n",
        "\n",
        "    mdl = SVC()\n",
        "\n",
        "  elif model_name == 'Decision Tree Classifier':\n",
        "\n",
        "    mdl = DecisionTreeClassifier()\n",
        "\n",
        "  elif model_name == 'K Nearest Neighbour':\n",
        "\n",
        "    mdl = KNeighborsClassifier(n_neighbors=10 , metric= 'minkowski' , p = 4)\n",
        "\n",
        "  elif model_name == 'Gaussian Naive Bayes':\n",
        "\n",
        "    mdl = GaussianNB()\n",
        "\n",
        "  oneVsRest = OneVsRestClassifier(mdl)\n",
        "\n",
        "  oneVsRest.fit(x_train, y_train)\n",
        "\n",
        "  y_pred = oneVsRest.predict(x_test)\n",
        "\n",
        "# Performance metrics\n",
        "\n",
        "  accuracy = round(accuracy_score(y_test, y_pred) * 100, 2)\n",
        "\n",
        "# Get precision, recall, f1 scores\n",
        "\n",
        "  precision, recall, f1score, support = score(y_test, y_pred, average='micro')\n",
        "\n",
        "  print(f'Test Accuracy Score of Basic {model_name}: % {accuracy}')\n",
        "\n",
        "  print(f'Precision : {precision}')\n",
        "\n",
        "  print(f'Recall : {recall}')\n",
        "\n",
        "  print(f'F1-score : {f1score}')\n",
        "\n",
        "# Add performance parameters to list\n",
        "\n",
        "  perform_list.append(dict([\n",
        "\n",
        "  ('Model', model_name),\n",
        "\n",
        "  ('Test Accuracy', round(accuracy, 2)),\n",
        "\n",
        "  ('Precision', round(precision, 2)),\n",
        "\n",
        "  ('Recall', round(recall, 2)),\n",
        "\n",
        "  ('F1', round(f1score, 2))\n",
        "\n",
        "]))"
      ]
    },
    {
      "cell_type": "code",
      "execution_count": null,
      "metadata": {
        "colab": {
          "base_uri": "https://localhost:8080/"
        },
        "id": "WQsT4tqSss9h",
        "outputId": "2d512dd6-cea2-46b5-8706-24b20aef159d"
      },
      "outputs": [
        {
          "name": "stdout",
          "output_type": "stream",
          "text": [
            "Test Accuracy Score of Basic Logistic Regression: % 97.09\n",
            "Precision : 0.970917225950783\n",
            "Recall : 0.970917225950783\n",
            "F1-score : 0.9709172259507831\n"
          ]
        }
      ],
      "source": [
        "run_model('Logistic Regression', est_c=None, est_pnlty=None)"
      ]
    },
    {
      "cell_type": "code",
      "execution_count": null,
      "metadata": {
        "colab": {
          "base_uri": "https://localhost:8080/"
        },
        "id": "RYXXml8-w_JH",
        "outputId": "c71a0a9b-e745-49bf-9696-e49867e833b7"
      },
      "outputs": [
        {
          "name": "stdout",
          "output_type": "stream",
          "text": [
            "Test Accuracy Score of Basic Random Forest: % 97.99\n",
            "Precision : 0.9798657718120806\n",
            "Recall : 0.9798657718120806\n",
            "F1-score : 0.9798657718120806\n"
          ]
        }
      ],
      "source": [
        "run_model('Random Forest', est_c=None, est_pnlty=None)"
      ]
    },
    {
      "cell_type": "code",
      "execution_count": null,
      "metadata": {
        "colab": {
          "base_uri": "https://localhost:8080/"
        },
        "id": "IvceD65stJV2",
        "outputId": "cf11c6d2-5e97-4eba-b3fc-56ffa8896470"
      },
      "outputs": [
        {
          "name": "stdout",
          "output_type": "stream",
          "text": [
            "Test Accuracy Score of Basic Multinomial Naive Bayes: % 97.09\n",
            "Precision : 0.970917225950783\n",
            "Recall : 0.970917225950783\n",
            "F1-score : 0.9709172259507831\n"
          ]
        }
      ],
      "source": [
        "run_model('Multinomial Naive Bayes', est_c=None, est_pnlty=None)"
      ]
    },
    {
      "cell_type": "code",
      "execution_count": null,
      "metadata": {
        "colab": {
          "base_uri": "https://localhost:8080/"
        },
        "id": "sMG-ahZ8w4ep",
        "outputId": "78dee89b-a6ba-4dc2-9fc0-54bc33c90125"
      },
      "outputs": [
        {
          "name": "stdout",
          "output_type": "stream",
          "text": [
            "Test Accuracy Score of Basic Support Vector Classifer: % 96.64\n",
            "Precision : 0.9664429530201343\n",
            "Recall : 0.9664429530201343\n",
            "F1-score : 0.9664429530201343\n"
          ]
        }
      ],
      "source": [
        "run_model('Support Vector Classifer', est_c=None, est_pnlty=None)"
      ]
    },
    {
      "cell_type": "code",
      "execution_count": null,
      "metadata": {
        "colab": {
          "base_uri": "https://localhost:8080/"
        },
        "id": "XihUr1bTxIFp",
        "outputId": "7d0b0b6b-0dbb-42c2-862b-4ab5c488018e"
      },
      "outputs": [
        {
          "name": "stdout",
          "output_type": "stream",
          "text": [
            "Test Accuracy Score of Basic Decision Tree Classifier: % 81.88\n",
            "Precision : 0.8187919463087249\n",
            "Recall : 0.8187919463087249\n",
            "F1-score : 0.8187919463087249\n"
          ]
        }
      ],
      "source": [
        "run_model('Decision Tree Classifier', est_c=None, est_pnlty=None)"
      ]
    },
    {
      "cell_type": "code",
      "execution_count": null,
      "metadata": {
        "colab": {
          "base_uri": "https://localhost:8080/"
        },
        "id": "RkrlFoPPxN4S",
        "outputId": "b425843f-d44b-4577-987c-43f261463980"
      },
      "outputs": [
        {
          "name": "stdout",
          "output_type": "stream",
          "text": [
            "Test Accuracy Score of Basic K Nearest Neighbour: % 73.6\n",
            "Precision : 0.7360178970917226\n",
            "Recall : 0.7360178970917226\n",
            "F1-score : 0.7360178970917226\n"
          ]
        }
      ],
      "source": [
        "run_model('K Nearest Neighbour', est_c=None, est_pnlty=None)"
      ]
    },
    {
      "cell_type": "code",
      "execution_count": null,
      "metadata": {
        "colab": {
          "base_uri": "https://localhost:8080/"
        },
        "id": "3MvgcfsdxQ0M",
        "outputId": "c5ea1d8a-2da8-490e-ecb2-8ca163cb636f"
      },
      "outputs": [
        {
          "name": "stdout",
          "output_type": "stream",
          "text": [
            "Test Accuracy Score of Basic Gaussian Naive Bayes: % 76.06\n",
            "Precision : 0.7606263982102909\n",
            "Recall : 0.7606263982102909\n",
            "F1-score : 0.7606263982102909\n"
          ]
        }
      ],
      "source": [
        "run_model('Gaussian Naive Bayes', est_c=None, est_pnlty=None)"
      ]
    },
    {
      "cell_type": "code",
      "execution_count": null,
      "metadata": {
        "colab": {
          "base_uri": "https://localhost:8080/",
          "height": 331
        },
        "id": "tw7rYDJKxT74",
        "outputId": "7496424e-b679-43ba-c3ec-df9c3a1897f2"
      },
      "outputs": [
        {
          "data": {
            "text/html": [
              "<div>\n",
              "<style scoped>\n",
              "    .dataframe tbody tr th:only-of-type {\n",
              "        vertical-align: middle;\n",
              "    }\n",
              "\n",
              "    .dataframe tbody tr th {\n",
              "        vertical-align: top;\n",
              "    }\n",
              "\n",
              "    .dataframe thead th {\n",
              "        text-align: right;\n",
              "    }\n",
              "</style>\n",
              "<table border=\"1\" class=\"dataframe\">\n",
              "  <thead>\n",
              "    <tr style=\"text-align: right;\">\n",
              "      <th></th>\n",
              "      <th>Model</th>\n",
              "      <th>Test Accuracy</th>\n",
              "      <th>Precision</th>\n",
              "      <th>Recall</th>\n",
              "      <th>F1</th>\n",
              "    </tr>\n",
              "  </thead>\n",
              "  <tbody>\n",
              "    <tr>\n",
              "      <th>0</th>\n",
              "      <td>Logistic Regression</td>\n",
              "      <td>97.09</td>\n",
              "      <td>0.97</td>\n",
              "      <td>0.97</td>\n",
              "      <td>0.97</td>\n",
              "    </tr>\n",
              "    <tr>\n",
              "      <th>1</th>\n",
              "      <td>Random Forest</td>\n",
              "      <td>97.99</td>\n",
              "      <td>0.98</td>\n",
              "      <td>0.98</td>\n",
              "      <td>0.98</td>\n",
              "    </tr>\n",
              "    <tr>\n",
              "      <th>2</th>\n",
              "      <td>Multinomial Naive Bayes</td>\n",
              "      <td>97.09</td>\n",
              "      <td>0.97</td>\n",
              "      <td>0.97</td>\n",
              "      <td>0.97</td>\n",
              "    </tr>\n",
              "    <tr>\n",
              "      <th>3</th>\n",
              "      <td>Support Vector Classifer</td>\n",
              "      <td>96.64</td>\n",
              "      <td>0.97</td>\n",
              "      <td>0.97</td>\n",
              "      <td>0.97</td>\n",
              "    </tr>\n",
              "    <tr>\n",
              "      <th>4</th>\n",
              "      <td>Decision Tree Classifier</td>\n",
              "      <td>81.88</td>\n",
              "      <td>0.82</td>\n",
              "      <td>0.82</td>\n",
              "      <td>0.82</td>\n",
              "    </tr>\n",
              "    <tr>\n",
              "      <th>5</th>\n",
              "      <td>K Nearest Neighbour</td>\n",
              "      <td>73.60</td>\n",
              "      <td>0.74</td>\n",
              "      <td>0.74</td>\n",
              "      <td>0.74</td>\n",
              "    </tr>\n",
              "    <tr>\n",
              "      <th>6</th>\n",
              "      <td>Gaussian Naive Bayes</td>\n",
              "      <td>76.06</td>\n",
              "      <td>0.76</td>\n",
              "      <td>0.76</td>\n",
              "      <td>0.76</td>\n",
              "    </tr>\n",
              "  </tbody>\n",
              "</table>\n",
              "</div>"
            ],
            "text/plain": [
              "                      Model  Test Accuracy  Precision  Recall    F1\n",
              "0       Logistic Regression          97.09       0.97    0.97  0.97\n",
              "1             Random Forest          97.99       0.98    0.98  0.98\n",
              "2   Multinomial Naive Bayes          97.09       0.97    0.97  0.97\n",
              "3  Support Vector Classifer          96.64       0.97    0.97  0.97\n",
              "4  Decision Tree Classifier          81.88       0.82    0.82  0.82\n",
              "5       K Nearest Neighbour          73.60       0.74    0.74  0.74\n",
              "6      Gaussian Naive Bayes          76.06       0.76    0.76  0.76"
            ]
          },
          "execution_count": 64,
          "metadata": {},
          "output_type": "execute_result"
        }
      ],
      "source": [
        "model_performance = pd.DataFrame(data=perform_list)\n",
        "model_performance = model_performance[['Model', 'Test Accuracy', 'Precision', 'Recall', 'F1']]\n",
        "model_performance"
      ]
    }
  ],
  "metadata": {
    "colab": {
      "provenance": [],
      "include_colab_link": true
    },
    "kernelspec": {
      "display_name": "Python 3 (ipykernel)",
      "language": "python",
      "name": "python3"
    },
    "language_info": {
      "codemirror_mode": {
        "name": "ipython",
        "version": 3
      },
      "file_extension": ".py",
      "mimetype": "text/x-python",
      "name": "python",
      "nbconvert_exporter": "python",
      "pygments_lexer": "ipython3",
      "version": "3.9.13"
    }
  },
  "nbformat": 4,
  "nbformat_minor": 0
}